{
 "cells": [
  {
   "cell_type": "markdown",
   "metadata": {},
   "source": [
    "# Neural networks with PyTorch\n",
    "\n",
    "Deep learning networks tend to be massive with dozens or hundreds of layers, that's where the term \"deep\" comes from. You can build one of these deep networks using only weight matrices as we did in the previous notebook, but in general it's very cumbersome and difficult to implement. PyTorch has a nice module `nn` that provides a nice way to efficiently build large neural networks."
   ]
  },
  {
   "cell_type": "code",
   "execution_count": 22,
   "metadata": {},
   "outputs": [],
   "source": [
    "# Import necessary packages\n",
    "\n",
    "%matplotlib inline\n",
    "%config InlineBackend.figure_format = 'retina'\n",
    "\n",
    "import numpy as np\n",
    "import torch\n",
    "\n",
    "import helper\n",
    "\n",
    "import matplotlib.pyplot as plt"
   ]
  },
  {
   "cell_type": "markdown",
   "metadata": {},
   "source": [
    "\n",
    "Now we're going to build a larger network that can solve a (formerly) difficult problem, identifying text in an image. Here we'll use the MNIST dataset which consists of greyscale handwritten digits. Each image is 28x28 pixels, you can see a sample below\n",
    "\n",
    "<img src='assets/mnist.png'>\n",
    "\n",
    "Our goal is to build a neural network that can take one of these images and predict the digit in the image.\n",
    "\n",
    "First up, we need to get our dataset. This is provided through the `torchvision` package. The code below will download the MNIST dataset, then create training and test datasets for us. Don't worry too much about the details here, you'll learn more about this later."
   ]
  },
  {
   "cell_type": "code",
   "execution_count": 23,
   "metadata": {},
   "outputs": [],
   "source": [
    "### Run this cell\n",
    "\n",
    "from torchvision import datasets, transforms\n",
    "\n",
    "# Define a transform to normalize the data\n",
    "transform = transforms.Compose([transforms.ToTensor(),\n",
    "                              transforms.Normalize((0.5,), (0.5,)),\n",
    "                              ])\n",
    "\n",
    "# Download and load the training data\n",
    "trainset = datasets.MNIST('~/.pytorch/MNIST_data/', download=True, train=True, transform=transform)\n",
    "trainloader = torch.utils.data.DataLoader(trainset, batch_size=64, shuffle=True)"
   ]
  },
  {
   "cell_type": "markdown",
   "metadata": {},
   "source": [
    "We have the training data loaded into `trainloader` and we make that an iterator with `iter(trainloader)`. Later, we'll use this to loop through the dataset for training, like\n",
    "\n",
    "```python\n",
    "for image, label in trainloader:\n",
    "    ## do things with images and labels\n",
    "```\n",
    "\n",
    "You'll notice I created the `trainloader` with a batch size of 64, and `shuffle=True`. The batch size is the number of images we get in one iteration from the data loader and pass through our network, often called a *batch*. And `shuffle=True` tells it to shuffle the dataset every time we start going through the data loader again. But here I'm just grabbing the first batch so we can check out the data. We can see below that `images` is just a tensor with size `(64, 1, 28, 28)`. So, 64 images per batch, 1 color channel, and 28x28 images."
   ]
  },
  {
   "cell_type": "code",
   "execution_count": 24,
   "metadata": {},
   "outputs": [
    {
     "name": "stdout",
     "output_type": "stream",
     "text": [
      "<class 'torch.Tensor'>\n",
      "torch.Size([64, 1, 28, 28])\n",
      "torch.Size([64])\n"
     ]
    }
   ],
   "source": [
    "dataiter = iter(trainloader)\n",
    "images, labels = dataiter.next()\n",
    "print(type(images))\n",
    "print(images.shape)\n",
    "print(labels.shape)"
   ]
  },
  {
   "cell_type": "markdown",
   "metadata": {},
   "source": [
    "This is what one of the images looks like. "
   ]
  },
  {
   "cell_type": "code",
   "execution_count": 25,
   "metadata": {},
   "outputs": [
    {
     "data": {
      "image/png": "[encoded data removed]",
      "text/plain": [
       "<matplotlib.figure.Figure at 0x7fa039303630>"
      ]
     },
     "metadata": {
      "image/png": {
       "height": 250,
       "width": 253
      },
      "needs_background": "light"
     },
     "output_type": "display_data"
    }
   ],
   "source": [
    "plt.imshow(images[1].numpy().squeeze(), cmap='Greys_r');"
   ]
  },
  {
   "cell_type": "markdown",
   "metadata": {},
   "source": [
    "First, let's try to build a simple network for this dataset using weight matrices and matrix multiplications. Then, we'll see how to do it using PyTorch's `nn` module which provides a much more convenient and powerful method for defining network architectures.\n",
    "\n",
    "The networks you've seen so far are called *fully-connected* or *dense* networks. Each unit in one layer is connected to each unit in the next layer. In fully-connected networks, the input to each layer must be a one-dimensional vector (which can be stacked into a 2D tensor as a batch of multiple examples). However, our images are 28x28 2D tensors, so we need to convert them into 1D vectors. Thinking about sizes, we need to convert the batch of images with shape `(64, 1, 28, 28)` to a have a shape of `(64, 784)`, 784 is 28 times 28. This is typically called *flattening*, we flattened the 2D images into 1D vectors.\n",
    "\n",
    "Previously you built a network with one output unit. Here we need 10 output units, one for each digit. We want our network to predict the digit shown in an image, so what we'll do is calculate probabilities that the image is of any one digit or class. This ends up being a discrete probability distribution over the classes (digits) that tells us the most likely class for the image. That means we need 10 output units for the 10 classes (digits). We'll see how to convert the network output into a probability distribution next.\n",
    "\n",
    "> **Exercise:** Flatten the batch of images `images`. Then build a multi-layer network with 784 input units, 256 hidden units, and 10 output units using random tensors for the weights and biases. For now, use a sigmoid activation for the hidden layer. Leave the output layer without an activation, we'll add one that gives us a probability distribution next."
   ]
  },
  {
   "cell_type": "code",
   "execution_count": 26,
   "metadata": {},
   "outputs": [
    {
     "name": "stdout",
     "output_type": "stream",
     "text": [
      "torch.Size([64, 10])\n",
      "tensor([[-2.4430e+00,  1.8939e+01, -5.6563e+00,  4.9975e+00,  2.2802e+01,\n",
      "         -6.3140e-01,  2.3381e+00, -1.8200e+01, -5.5335e+00,  4.7978e+00],\n",
      "        [ 1.1271e+01,  1.6166e+01, -4.0801e-01,  1.5694e+01,  5.1080e+00,\n",
      "          2.4154e+00, -6.1064e+00, -7.6264e+00, -4.2354e+00,  2.7170e+00],\n",
      "        [ 1.0022e+01,  1.1709e+01,  1.4466e+01,  1.7786e+01,  1.2666e+01,\n",
      "          6.9994e-02,  5.3843e+00, -1.1116e+01, -3.6260e+00,  1.5470e+01],\n",
      "        [-1.6520e+00,  1.3941e+01, -9.0553e+00,  2.3089e+01,  9.7237e+00,\n",
      "          7.2652e+00,  9.7698e-01, -1.0739e+01, -4.1995e+00,  6.7085e+00],\n",
      "        [-5.9046e+00,  2.0215e+01,  7.6357e-01,  2.2492e+01,  9.8945e+00,\n",
      "         -3.1085e+00,  1.0058e+00, -1.0986e+01, -1.0611e+01,  4.4335e+00],\n",
      "        [ 9.8261e+00,  7.7221e+00,  2.5811e+00,  8.0891e+00,  1.2771e+01,\n",
      "          1.0171e+01, -3.7910e+00, -2.5769e+01,  3.8797e+00,  2.5315e+00],\n",
      "        [-3.6828e+00,  1.0150e+01,  5.2576e+00,  1.2933e+01,  1.6891e+01,\n",
      "          6.4904e+00, -2.0826e+00, -7.8409e+00,  1.3192e+00,  2.6115e+00],\n",
      "        [ 4.5707e+00,  6.0382e+00, -5.8949e-05,  1.7142e+01,  1.7308e+01,\n",
      "          6.4729e+00,  8.7562e+00, -1.2323e+01,  2.9104e+00,  1.1785e+01],\n",
      "        [-2.2773e+00,  1.4500e+01,  3.0372e+00,  6.6333e+00,  2.1384e+01,\n",
      "          4.9997e+00, -5.9561e+00, -7.8713e+00, -9.0668e-02,  3.9357e+00],\n",
      "        [ 7.2342e+00,  1.3446e+01, -1.3147e+00,  7.6255e+00,  2.1381e+01,\n",
      "          3.1268e+00,  8.1096e-02, -1.3061e+01, -2.8143e+00,  1.1310e+01],\n",
      "        [ 1.5801e+01,  1.3156e+01, -5.2971e+00,  7.3894e+00,  1.0644e+01,\n",
      "          2.1493e+00, -7.0937e+00, -1.2590e+01,  2.2532e-01,  2.3473e+01],\n",
      "        [ 2.5083e+00,  1.7037e+01, -3.2045e+00,  1.5591e+01,  2.2431e+01,\n",
      "          3.1368e+00, -7.2890e+00, -6.0679e+00, -1.0294e+01, -2.5034e+00],\n",
      "        [-1.2145e+00,  1.0936e+01,  9.1778e+00,  2.1184e+01,  6.6875e+00,\n",
      "          6.9695e+00,  2.7289e+00, -1.0923e+01,  6.6541e+00,  6.3666e-01],\n",
      "        [ 5.0245e+00,  7.0488e+00,  1.1207e+00,  8.5143e+00,  1.6002e+01,\n",
      "          6.1114e+00, -8.9741e+00, -1.2564e+01,  1.4616e+00,  1.4355e+01],\n",
      "        [ 2.9226e+00,  1.7571e+01,  4.4435e+00,  2.3403e+01,  8.3216e+00,\n",
      "          3.2301e+00,  8.8387e+00, -1.0788e+01,  8.6355e-02,  5.5100e+00],\n",
      "        [ 7.3749e+00,  7.1670e+00, -5.4601e+00,  9.9456e+00,  1.2447e+01,\n",
      "          3.0654e+00, -4.8506e+00, -1.4930e+01, -2.8072e+00,  1.1252e+01],\n",
      "        [ 9.3681e+00,  1.1945e+01, -6.9526e+00,  5.4352e+00,  1.4655e+01,\n",
      "          9.0408e+00, -4.1100e+00, -1.7861e+01,  3.8070e+00,  4.1839e+00],\n",
      "        [ 4.6945e+00,  2.3210e+00,  8.3670e-01,  1.6127e+01,  1.4444e+00,\n",
      "          6.5473e+00, -3.1553e+00, -2.0517e+01, -8.8479e+00,  3.2489e+00],\n",
      "        [ 5.5577e+00,  1.7545e+01, -9.9216e-01,  1.6979e+01,  8.5117e+00,\n",
      "          7.3976e+00,  5.2997e-01, -1.9692e+01, -7.7555e+00,  7.9821e+00],\n",
      "        [ 7.1888e+00,  1.4123e+01, -7.0253e+00,  1.3381e+01,  1.7110e+01,\n",
      "          1.4817e+01,  3.3506e+00, -1.3377e+01, -7.2857e-01,  4.4404e+00],\n",
      "        [ 2.8378e+00,  8.7017e+00,  1.9002e+00,  1.0039e+01,  1.8131e+01,\n",
      "          1.3022e+01,  4.1211e+00, -9.7136e+00, -1.5494e+00,  1.3659e+00],\n",
      "        [-6.4716e+00,  2.3543e+01, -1.0690e+01,  2.5197e+01,  9.9210e+00,\n",
      "          2.5800e+00,  5.3660e+00, -6.9386e+00, -1.2243e+00,  7.7419e+00],\n",
      "        [ 3.7396e+00,  1.7393e+01, -4.3408e+00,  1.2894e+01,  2.2337e+01,\n",
      "          8.0575e+00,  2.6237e+00,  8.9726e-02, -1.1325e+01,  5.3654e+00],\n",
      "        [-8.0168e-01,  1.7398e+01, -3.2706e+00,  7.4244e+00,  1.6576e+01,\n",
      "          8.0361e+00,  1.6812e-01, -8.9771e+00, -4.7114e+00,  3.8541e+00],\n",
      "        [-4.3542e+00,  1.6754e+01, -3.4801e+00,  1.4256e+01,  1.5554e+01,\n",
      "         -1.5800e+00,  7.2107e+00, -9.1680e+00, -4.0890e+00,  1.3631e+01],\n",
      "        [ 8.5487e+00,  2.1016e+01, -8.9377e+00,  1.3932e+01,  1.0223e+01,\n",
      "          7.7511e+00,  1.5004e+00, -6.2165e+00,  3.7994e+00,  1.1013e+01],\n",
      "        [ 9.6274e+00,  8.1660e+00,  6.7088e+00,  1.5029e+01,  1.4596e+01,\n",
      "          7.0195e+00, -4.4679e+00, -6.5767e+00, -7.0771e+00,  7.0870e+00],\n",
      "        [ 3.7975e+00,  1.4473e+01, -1.5633e+00,  1.5617e+01,  1.9701e+01,\n",
      "          7.3943e+00, -6.3023e+00, -6.5362e+00, -9.6540e+00,  3.4035e+00],\n",
      "        [ 7.7053e+00,  5.8138e+00, -3.4812e+00,  1.6741e+01,  8.6339e+00,\n",
      "          1.0449e+00, -1.3249e+01, -1.9717e+01,  1.0834e+01,  1.0341e+01],\n",
      "        [ 8.5521e+00,  4.9513e+00,  5.3734e+00,  9.4653e+00,  1.7491e+01,\n",
      "          3.3131e+00, -8.7060e+00, -1.9308e+01, -2.5650e+00,  7.6409e+00],\n",
      "        [-3.2946e+00,  1.8780e+01, -6.7719e+00,  1.4235e+01,  1.5094e+01,\n",
      "          6.1461e+00,  5.8939e+00, -1.4566e+01, -1.8678e+00,  1.6697e+01],\n",
      "        [-7.4922e+00,  1.4475e+01, -4.6750e+00,  1.4276e+00,  2.0675e+01,\n",
      "         -1.5558e+00, -1.9917e+00, -1.6136e+01,  1.8717e+00,  1.8537e+01],\n",
      "        [-1.5426e+00,  1.4558e+01, -6.3664e-01,  1.2525e+01,  4.9822e+00,\n",
      "          8.6791e+00,  1.1273e+00, -1.3039e+01,  6.8885e+00,  1.3097e+01],\n",
      "        [ 1.0387e+01,  2.4680e+01, -4.5386e+00,  2.0443e+01,  1.6742e+01,\n",
      "         -5.8088e-01,  5.5725e+00, -6.9161e+00, -2.0135e+00,  9.9173e+00],\n",
      "        [ 5.7022e+00,  1.2781e+01, -7.8877e+00,  1.9184e+01,  1.1836e+01,\n",
      "          4.6896e+00, -1.4900e+01, -7.3064e+00, -5.5271e+00, -1.9565e+00],\n",
      "        [ 7.8570e+00,  1.6028e+01, -6.3855e+00,  9.3730e+00,  1.7618e+01,\n",
      "          1.0788e+01, -6.7053e+00, -9.7583e+00,  6.0873e+00,  1.0963e+01],\n",
      "        [ 4.9782e+00,  8.4027e+00, -3.4715e+00,  8.5704e+00,  1.4796e+01,\n",
      "          7.9421e+00, -2.2562e+00, -1.4936e+01,  8.1284e+00,  7.6978e+00],\n",
      "        [ 1.3985e+01,  3.7087e+00,  4.6323e+00,  1.2773e+00,  1.4303e+01,\n",
      "          1.0817e+01, -6.2021e+00, -1.9149e+01,  1.9043e+00,  1.7501e+01],\n",
      "        [ 1.3316e-02,  1.2165e+01, -7.0909e+00,  1.9261e+01,  1.6325e+01,\n",
      "          6.7509e+00, -3.3641e+00, -9.8182e+00,  8.0382e+00,  1.8124e+01],\n",
      "        [-1.0556e+01,  8.3865e+00, -2.9046e+00,  1.3879e+01,  1.5600e+01,\n",
      "          9.2462e+00, -3.9726e+00, -1.0595e+01,  5.0823e+00,  4.3699e+00],\n",
      "        [ 9.8641e+00,  2.1584e+01, -2.6304e+00,  1.6179e+01,  1.7961e+01,\n",
      "          8.1283e+00,  4.5168e+00, -1.4110e+01, -9.8841e+00,  5.3972e+00],\n",
      "        [-6.6961e-01,  2.4272e+01, -2.3275e+00,  1.5436e+01,  1.1957e+01,\n",
      "         -5.1391e-02,  1.6846e+01, -1.1800e+01,  2.5270e-01,  1.0337e+01],\n",
      "        [-2.8905e+00,  3.7399e+00, -4.5739e+00,  1.4936e+01,  2.3159e+01,\n",
      "          8.7687e+00, -6.8852e+00, -1.7307e+01,  4.2209e+00,  4.8218e+00],\n",
      "        [-2.1287e+00,  1.3401e+01,  8.3576e+00,  1.1437e+01,  2.7726e+01,\n",
      "         -3.0698e+00,  1.7266e+00, -1.1670e+01,  8.0606e+00,  8.2482e-01],\n",
      "        [ 2.4006e+00,  1.3394e+01,  4.8841e-01,  1.7841e+01,  1.6050e+01,\n",
      "         -6.2344e-03,  3.4084e+00, -1.2937e+01, -3.6259e+00,  6.2633e+00],\n",
      "        [ 5.2662e+00,  2.2879e+00,  5.8806e+00,  3.3622e+00,  1.4581e+01,\n",
      "          5.5788e+00, -1.1371e+01, -1.0303e+01,  2.9290e+00,  1.7414e+01],\n",
      "        [ 1.1108e+01,  1.4582e+01, -3.7936e+00,  1.8205e+01,  1.0339e+01,\n",
      "          2.5873e+00,  9.1122e+00, -1.1878e+01, -8.1481e+00,  1.5507e+01],\n",
      "        [ 8.1121e+00,  2.1510e+01, -1.3986e+01,  1.5061e+01,  1.0787e+01,\n",
      "          6.5336e+00,  8.0907e+00, -1.6166e+01, -6.5242e+00,  1.6180e+00],\n",
      "        [-2.2801e+00,  5.0314e+00, -5.0308e+00,  1.2269e+01,  1.3563e+01,\n",
      "          4.7186e-01, -7.0383e+00, -1.0977e+00, -8.3941e+00,  1.0446e+01],\n",
      "        [ 6.4374e+00,  1.4057e+01,  9.3095e+00,  2.0447e+01,  1.6828e+01,\n",
      "          9.0095e+00,  2.2728e+00, -1.5691e+01, -3.2499e-01,  1.1341e+01],\n",
      "        [-3.8066e+00,  1.6327e+01,  5.7050e+00,  2.0872e+01,  1.6531e+01,\n",
      "          5.0862e+00, -2.1598e+00, -1.7021e+01,  5.4955e+00,  7.1117e+00],\n",
      "        [ 1.1024e+01,  1.7706e+01,  6.6803e-01,  9.4084e+00,  1.4251e+01,\n",
      "          1.0254e+01, -1.8145e+00, -1.3402e+01, -6.4433e+00,  8.4750e+00],\n",
      "        [-6.7744e+00,  1.8112e+01, -5.8353e+00,  4.4601e+00,  1.2813e+01,\n",
      "          5.2037e+00,  2.3228e+00, -4.7686e+00,  7.0768e-01,  9.3486e+00],\n",
      "        [ 4.2889e+00,  6.9168e+00, -1.9890e+00,  1.6501e+00,  2.4513e+01,\n",
      "          6.8669e+00, -1.1315e+00, -4.0456e+00, -9.6589e+00,  5.6490e+00],\n",
      "        [-8.3821e+00,  1.9874e+01, -3.6397e+00,  2.8053e+01,  1.3832e+01,\n",
      "         -7.0646e+00,  3.8249e-01, -1.3582e+01, -1.0798e+01,  1.5214e+01],\n",
      "        [-4.4680e+00,  1.7160e+01, -2.0747e+00,  1.8975e+01,  2.1356e+01,\n",
      "         -1.0030e+00, -6.2116e-01, -1.6708e+01, -8.8812e-01,  1.7132e+01],\n",
      "        [ 8.3235e+00,  9.8763e+00, -7.7932e+00,  4.4134e+00,  2.0428e+01,\n",
      "          5.9772e+00, -1.6861e+00, -1.2943e+01,  2.2439e-01,  7.2846e+00],\n",
      "        [ 6.3655e+00,  8.3055e+00, -6.3710e+00,  1.2426e+01,  1.1982e+01,\n",
      "          1.4873e+01, -1.1506e+00, -1.7753e+01,  1.3213e+00,  2.1069e+01],\n",
      "        [-2.2866e+00,  1.5524e+01, -2.1146e+00,  2.1016e+01,  2.8963e+01,\n",
      "          6.8309e+00, -5.8499e+00, -1.1401e+01, -5.9846e-01,  7.2209e+00],\n",
      "        [ 5.5052e+00,  1.1760e+01, -2.9891e-01,  2.3456e+01,  1.0714e+01,\n",
      "          7.9944e+00, -3.7287e+00, -8.2827e+00, -3.9018e+00,  1.0596e+01],\n",
      "        [ 1.1804e+01,  1.6442e+01, -4.4936e+00,  1.5677e+01,  1.0141e+01,\n",
      "          7.7115e+00, -2.5103e+00, -5.3751e+00,  3.6267e-01,  6.4728e+00],\n",
      "        [-3.3613e+00,  8.3110e+00, -4.6496e+00,  8.7731e+00,  2.1308e+01,\n",
      "          1.6455e+01,  7.0599e+00, -8.2887e+00,  3.4534e+00,  8.2373e+00],\n",
      "        [ 5.8539e+00,  1.9189e+01, -1.5975e+00,  1.3419e+01,  1.9095e+01,\n",
      "          6.4167e+00,  2.4148e-01, -1.3312e+01, -2.5838e+00,  4.8877e+00],\n",
      "        [-7.5586e+00,  1.4972e+01, -9.6151e+00,  8.1497e+00,  2.1761e+01,\n",
      "          2.0694e+00,  5.8479e+00, -1.8476e+01, -7.2335e+00,  1.0592e+01]])\n"
     ]
    }
   ],
   "source": [
    "## Your solution\n",
    "def activation(x):\n",
    "    return 1/(1+torch.exp(-x))\n",
    "\n",
    "#flatten input images\n",
    "inputs = images.view(images.shape[0], -1)\n",
    "\n",
    "#create parameters\n",
    "w1 = torch.randn(784, 256)\n",
    "b1 = torch.randn(256)\n",
    "\n",
    "w2 = torch.randn(256, 10)\n",
    "b2 = torch.randn(10)\n",
    "\n",
    "h = activation(torch.mm(inputs, w1) + b1)\n",
    "\n",
    "out = torch.mm(h, w2) + b2     # output of your network, should have shape (64,10)\n",
    "print(out.shape)\n",
    "print(out)"
   ]
  },
  {
   "cell_type": "markdown",
   "metadata": {},
   "source": [
    "Now we have 10 outputs for our network. We want to pass in an image to our network and get out a probability distribution over the classes that tells us the likely class(es) the image belongs to. Something that looks like this:\n",
    "<img src='assets/image_distribution.png' width=500px>\n",
    "\n",
    "Here we see that the probability for each class is roughly the same. This is representing an untrained network, it hasn't seen any data yet so it just returns a uniform distribution with equal probabilities for each class.\n",
    "\n",
    "To calculate this probability distribution, we often use the [**softmax** function](https://en.wikipedia.org/wiki/Softmax_function). Mathematically this looks like\n",
    "\n",
    "$$\n",
    "\\Large \\sigma(x_i) = \\cfrac{e^{x_i}}{\\sum_k^K{e^{x_k}}}\n",
    "$$\n",
    "\n",
    "What this does is squish each input $x_i$ between 0 and 1 and normalizes the values to give you a proper probability distribution where the probabilites sum up to one.\n",
    "\n",
    "> **Exercise:** Implement a function `softmax` that performs the softmax calculation and returns probability distributions for each example in the batch. Note that you'll need to pay attention to the shapes when doing this. If you have a tensor `a` with shape `(64, 10)` and a tensor `b` with shape `(64,)`, doing `a/b` will give you an error because PyTorch will try to do the division across the columns (called broadcasting) but you'll get a size mismatch. The way to think about this is for each of the 64 examples, you only want to divide by one value, the sum in the denominator. So you need `b` to have a shape of `(64, 1)`. This way PyTorch will divide the 10 values in each row of `a` by the one value in each row of `b`. Pay attention to how you take the sum as well. You'll need to define the `dim` keyword in `torch.sum`. Setting `dim=0` takes the sum across the rows while `dim=1` takes the sum across the columns."
   ]
  },
  {
   "cell_type": "code",
   "execution_count": 27,
   "metadata": {},
   "outputs": [
    {
     "name": "stdout",
     "output_type": "stream",
     "text": [
      "torch.Size([64, 10])\n",
      "tensor([ 1.0000,  1.0000,  1.0000,  1.0000,  1.0000,  1.0000,  1.0000,\n",
      "         1.0000,  1.0000,  1.0000,  1.0000,  1.0000,  1.0000,  1.0000,\n",
      "         1.0000,  1.0000,  1.0000,  1.0000,  1.0000,  1.0000,  1.0000,\n",
      "         1.0000,  1.0000,  1.0000,  1.0000,  1.0000,  1.0000,  1.0000,\n",
      "         1.0000,  1.0000,  1.0000,  1.0000,  1.0000,  1.0000,  1.0000,\n",
      "         1.0000,  1.0000,  1.0000,  1.0000,  1.0000,  1.0000,  1.0000,\n",
      "         1.0000,  1.0000,  1.0000,  1.0000,  1.0000,  1.0000,  1.0000,\n",
      "         1.0000,  1.0000,  1.0000,  1.0000,  1.0000,  1.0000,  1.0000,\n",
      "         1.0000,  1.0000,  1.0000,  1.0000,  1.0000,  1.0000,  1.0000,\n",
      "         1.0000])\n"
     ]
    }
   ],
   "source": [
    "def softmax(x):\n",
    "    ## TODO: Implement the softmax function here\n",
    "    return torch.exp(x)/torch.sum(torch.exp(x), dim=1).view(-1,1)\n",
    "\n",
    "# Here, out should be the output of the network in the previous excercise with shape (64,10)\n",
    "probabilities = softmax(out)\n",
    "\n",
    "# Does it have the right shape? Should be (64, 10)\n",
    "print(probabilities.shape)\n",
    "# Does it sum to 1?\n",
    "print(probabilities.sum(dim=1))"
   ]
  },
  {
   "cell_type": "markdown",
   "metadata": {},
   "source": [
    "## Building networks with PyTorch\n",
    "\n",
    "PyTorch provides a module `nn` that makes building networks much simpler. Here I'll show you how to build the same one as above with 784 inputs, 256 hidden units, 10 output units and a softmax output."
   ]
  },
  {
   "cell_type": "code",
   "execution_count": 28,
   "metadata": {},
   "outputs": [],
   "source": [
    "from torch import nn"
   ]
  },
  {
   "cell_type": "code",
   "execution_count": 29,
   "metadata": {},
   "outputs": [],
   "source": [
    "class Network(nn.Module):\n",
    "    def __init__(self):\n",
    "        super().__init__()\n",
    "        \n",
    "        # Inputs to hidden layer linear transformation\n",
    "        self.hidden = nn.Linear(784, 256)\n",
    "        # Output layer, 10 units - one for each digit\n",
    "        self.output = nn.Linear(256, 10)\n",
    "        \n",
    "        # Define sigmoid activation and softmax output \n",
    "        self.sigmoid = nn.Sigmoid()\n",
    "        self.softmax = nn.Softmax(dim=1)\n",
    "        \n",
    "    def forward(self, x):\n",
    "        # Pass the input tensor through each of our operations\n",
    "        x = self.hidden(x)\n",
    "        x = self.sigmoid(x)\n",
    "        x = self.output(x)\n",
    "        x = self.softmax(x)\n",
    "        \n",
    "        return x"
   ]
  },
  {
   "cell_type": "markdown",
   "metadata": {},
   "source": [
    "Let's go through this bit by bit.\n",
    "\n",
    "```python\n",
    "class Network(nn.Module):\n",
    "```\n",
    "\n",
    "Here we're inheriting from `nn.Module`. Combined with `super().__init__()` this creates a class that tracks the architecture and provides a lot of useful methods and attributes. It is mandatory to inherit from `nn.Module` when you're creating a class for your network. The name of the class itself can be anything.\n",
    "\n",
    "```python\n",
    "self.hidden = nn.Linear(784, 256)\n",
    "```\n",
    "\n",
    "This line creates a module for a linear transformation, $x\\mathbf{W} + b$, with 784 inputs and 256 outputs and assigns it to `self.hidden`. The module automatically creates the weight and bias tensors which we'll use in the `forward` method. You can access the weight and bias tensors once the network (`net`) is created with `net.hidden.weight` and `net.hidden.bias`.\n",
    "\n",
    "```python\n",
    "self.output = nn.Linear(256, 10)\n",
    "```\n",
    "\n",
    "Similarly, this creates another linear transformation with 256 inputs and 10 outputs.\n",
    "\n",
    "```python\n",
    "self.sigmoid = nn.Sigmoid()\n",
    "self.softmax = nn.Softmax(dim=1)\n",
    "```\n",
    "\n",
    "Here I defined operations for the sigmoid activation and softmax output. Setting `dim=1` in `nn.Softmax(dim=1)` calculates softmax across the columns.\n",
    "\n",
    "```python\n",
    "def forward(self, x):\n",
    "```\n",
    "\n",
    "PyTorch networks created with `nn.Module` must have a `forward` method defined. It takes in a tensor `x` and passes it through the operations you defined in the `__init__` method.\n",
    "\n",
    "```python\n",
    "x = self.hidden(x)\n",
    "x = self.sigmoid(x)\n",
    "x = self.output(x)\n",
    "x = self.softmax(x)\n",
    "```\n",
    "\n",
    "Here the input tensor `x` is passed through each operation a reassigned to `x`. We can see that the input tensor goes through the hidden layer, then a sigmoid function, then the output layer, and finally the softmax function. It doesn't matter what you name the variables here, as long as the inputs and outputs of the operations match the network architecture you want to build. The order in which you define things in the `__init__` method doesn't matter, but you'll need to sequence the operations correctly in the `forward` method.\n",
    "\n",
    "Now we can create a `Network` object."
   ]
  },
  {
   "cell_type": "code",
   "execution_count": 30,
   "metadata": {},
   "outputs": [
    {
     "data": {
      "text/plain": [
       "Network(\n",
       "  (hidden): Linear(in_features=784, out_features=256, bias=True)\n",
       "  (output): Linear(in_features=256, out_features=10, bias=True)\n",
       "  (sigmoid): Sigmoid()\n",
       "  (softmax): Softmax()\n",
       ")"
      ]
     },
     "execution_count": 30,
     "metadata": {},
     "output_type": "execute_result"
    }
   ],
   "source": [
    "# Create the network and look at it's text representation\n",
    "model = Network()\n",
    "model"
   ]
  },
  {
   "cell_type": "markdown",
   "metadata": {},
   "source": [
    "You can define the network somewhat more concisely and clearly using the `torch.nn.functional` module. This is the most common way you'll see networks defined as many operations are simple element-wise functions. We normally import this module as `F`, `import torch.nn.functional as F`."
   ]
  },
  {
   "cell_type": "code",
   "execution_count": 31,
   "metadata": {},
   "outputs": [],
   "source": [
    "import torch.nn.functional as F\n",
    "\n",
    "class Network(nn.Module):\n",
    "    def __init__(self):\n",
    "        super().__init__()\n",
    "        # Inputs to hidden layer linear transformation\n",
    "        self.hidden = nn.Linear(784, 256)\n",
    "        # Output layer, 10 units - one for each digit\n",
    "        self.output = nn.Linear(256, 10)\n",
    "        \n",
    "    def forward(self, x):\n",
    "        # Hidden layer with sigmoid activation\n",
    "        x = F.sigmoid(self.hidden(x))\n",
    "        # Output layer with softmax activation\n",
    "        x = F.softmax(self.output(x), dim=1)\n",
    "        \n",
    "        return x"
   ]
  },
  {
   "cell_type": "markdown",
   "metadata": {},
   "source": [
    "### Activation functions\n",
    "\n",
    "So far we've only been looking at the softmax activation, but in general any function can be used as an activation function. The only requirement is that for a network to approximate a non-linear function, the activation functions must be non-linear. Here are a few more examples of common activation functions: Tanh (hyperbolic tangent), and ReLU (rectified linear unit).\n",
    "\n",
    "<img src=\"assets/activation.png\" width=700px>\n",
    "\n",
    "In practice, the ReLU function is used almost exclusively as the activation function for hidden layers."
   ]
  },
  {
   "cell_type": "markdown",
   "metadata": {},
   "source": [
    "### Your Turn to Build a Network\n",
    "\n",
    "<img src=\"assets/mlp_mnist.png\" width=600px>\n",
    "\n",
    "> **Exercise:** Create a network with 784 input units, a hidden layer with 128 units and a ReLU activation, then a hidden layer with 64 units and a ReLU activation, and finally an output layer with a softmax activation as shown above. You can use a ReLU activation with the `nn.ReLU` module or `F.relu` function."
   ]
  },
  {
   "cell_type": "code",
   "execution_count": 32,
   "metadata": {
    "scrolled": true
   },
   "outputs": [
    {
     "data": {
      "text/plain": [
       "Network(\n",
       "  (fc1): Linear(in_features=784, out_features=128, bias=True)\n",
       "  (fc2): Linear(in_features=128, out_features=64, bias=True)\n",
       "  (fc3): Linear(in_features=64, out_features=10, bias=True)\n",
       ")"
      ]
     },
     "execution_count": 32,
     "metadata": {},
     "output_type": "execute_result"
    }
   ],
   "source": [
    "## Your solution here\n",
    "\n",
    "class Network(nn.Module):\n",
    "    def __init__(self):\n",
    "        super().__init__()\n",
    "        #defining the layers, 128, 64, 10 units each\n",
    "        self.fc1 = nn.Linear(784, 128)\n",
    "        self.fc2 = nn.Linear(128, 64)\n",
    "        #output layer, 10 units for each digit\n",
    "        self.fc3 = nn.Linear(64, 10)\n",
    "\n",
    "    def forward(self, x):\n",
    "        x = self.fc1(x)\n",
    "        x = F.relu(x)\n",
    "        x = self.fc2(x)\n",
    "        x = F.relu(x)\n",
    "        x = self.fc3(x)\n",
    "        x = F.softmax(x, dim=1)\n",
    "        \n",
    "        return x\n",
    "model = Network()\n",
    "model"
   ]
  },
  {
   "cell_type": "markdown",
   "metadata": {},
   "source": [
    "### Initializing weights and biases\n",
    "\n",
    "The weights and such are automatically initialized for you, but it's possible to customize how they are initialized. The weights and biases are tensors attached to the layer you defined, you can get them with `model.fc1.weight` for instance."
   ]
  },
  {
   "cell_type": "code",
   "execution_count": 33,
   "metadata": {},
   "outputs": [
    {
     "name": "stdout",
     "output_type": "stream",
     "text": [
      "Parameter containing:\n",
      "tensor([[ 2.7438e-02, -3.0890e-02, -3.1762e-02,  ...,  3.1980e-02,\n",
      "         -8.1296e-03, -1.7061e-02],\n",
      "        [ 3.4202e-04,  8.9667e-03,  1.1061e-02,  ...,  3.2663e-02,\n",
      "         -1.0230e-02, -1.8105e-02],\n",
      "        [ 1.9119e-02,  1.5039e-02,  1.0615e-02,  ..., -1.5707e-02,\n",
      "         -3.4180e-02, -1.2328e-02],\n",
      "        ...,\n",
      "        [-1.4114e-02, -5.0277e-03, -3.4927e-02,  ..., -1.5991e-02,\n",
      "         -2.4034e-02, -2.2738e-02],\n",
      "        [-7.3524e-03,  3.0038e-02, -1.0953e-02,  ..., -1.9285e-02,\n",
      "         -8.8260e-04,  9.9264e-03],\n",
      "        [ 1.4359e-02,  1.0680e-02,  1.9254e-02,  ...,  1.3251e-03,\n",
      "         -3.3323e-02,  2.2840e-02]])\n",
      "Parameter containing:\n",
      "tensor(1.00000e-02 *\n",
      "       [-1.4560, -2.8950, -3.3995, -0.9518,  3.4950,  3.3600,  2.4802,\n",
      "         1.7494,  1.6957,  2.0031, -0.7517,  3.0437, -3.0288,  3.5569,\n",
      "        -1.8844, -0.9457, -2.7532,  2.3250,  1.7632,  0.8199,  2.5810,\n",
      "         3.2623, -2.4460,  0.8023, -0.5905, -3.4720, -1.5492, -1.4097,\n",
      "         1.4449, -0.5568, -1.9164, -0.9631, -3.1404,  0.9629,  0.7945,\n",
      "         1.0954,  2.3997,  0.3963,  3.4722, -0.1783, -2.9150, -2.7062,\n",
      "         2.9598,  0.8319, -0.6493,  1.6580,  2.0079,  2.5881, -2.1674,\n",
      "         0.4485,  0.5775, -1.8885,  2.5997,  2.7349, -1.3509,  0.3544,\n",
      "        -2.6106, -2.8869,  1.6860, -2.3437, -0.1634, -2.6822,  2.4732,\n",
      "         0.8250, -2.6866, -1.8589, -3.3552, -1.8950, -1.4075,  1.0805,\n",
      "        -0.2096, -0.0938,  0.2149, -2.6500, -0.3430, -2.7789,  0.0059,\n",
      "        -2.8170,  0.6528, -1.7526, -1.6455, -2.4760, -0.3806,  1.6239,\n",
      "        -2.6374, -1.6475,  2.7720,  3.2031,  0.7205, -0.9525, -3.1691,\n",
      "        -2.9248,  1.0676,  1.0263, -3.3413, -3.1217, -0.9794, -0.3036,\n",
      "         3.0032, -0.5302, -2.0049,  2.6330, -3.1148, -1.7046, -1.4685,\n",
      "        -1.0747,  1.1304,  3.3855, -1.7577, -0.5780, -1.3261,  3.5314,\n",
      "        -1.2488, -0.2482, -3.1804,  0.8043, -2.5171, -2.9068,  0.7142,\n",
      "         0.6876,  2.1824, -2.6896, -1.2681,  3.4983,  0.9940, -2.6049,\n",
      "        -1.3425, -1.9799])\n"
     ]
    }
   ],
   "source": [
    "print(model.fc1.weight)\n",
    "print(model.fc1.bias)"
   ]
  },
  {
   "cell_type": "markdown",
   "metadata": {},
   "source": [
    "For custom initialization, we want to modify these tensors in place. These are actually autograd *Variables*, so we need to get back the actual tensors with `model.fc1.weight.data`. Once we have the tensors, we can fill them with zeros (for biases) or random normal values."
   ]
  },
  {
   "cell_type": "code",
   "execution_count": 34,
   "metadata": {},
   "outputs": [
    {
     "data": {
      "text/plain": [
       "tensor([ 0.,  0.,  0.,  0.,  0.,  0.,  0.,  0.,  0.,  0.,  0.,  0.,\n",
       "         0.,  0.,  0.,  0.,  0.,  0.,  0.,  0.,  0.,  0.,  0.,  0.,\n",
       "         0.,  0.,  0.,  0.,  0.,  0.,  0.,  0.,  0.,  0.,  0.,  0.,\n",
       "         0.,  0.,  0.,  0.,  0.,  0.,  0.,  0.,  0.,  0.,  0.,  0.,\n",
       "         0.,  0.,  0.,  0.,  0.,  0.,  0.,  0.,  0.,  0.,  0.,  0.,\n",
       "         0.,  0.,  0.,  0.,  0.,  0.,  0.,  0.,  0.,  0.,  0.,  0.,\n",
       "         0.,  0.,  0.,  0.,  0.,  0.,  0.,  0.,  0.,  0.,  0.,  0.,\n",
       "         0.,  0.,  0.,  0.,  0.,  0.,  0.,  0.,  0.,  0.,  0.,  0.,\n",
       "         0.,  0.,  0.,  0.,  0.,  0.,  0.,  0.,  0.,  0.,  0.,  0.,\n",
       "         0.,  0.,  0.,  0.,  0.,  0.,  0.,  0.,  0.,  0.,  0.,  0.,\n",
       "         0.,  0.,  0.,  0.,  0.,  0.,  0.,  0.])"
      ]
     },
     "execution_count": 34,
     "metadata": {},
     "output_type": "execute_result"
    }
   ],
   "source": [
    "# Set biases to all zeros\n",
    "model.fc1.bias.data.fill_(0)"
   ]
  },
  {
   "cell_type": "code",
   "execution_count": 35,
   "metadata": {},
   "outputs": [
    {
     "data": {
      "text/plain": [
       "tensor([[-5.4275e-03,  9.9401e-03, -6.2766e-03,  ..., -2.2604e-03,\n",
       "         -6.5652e-04,  6.0710e-03],\n",
       "        [ 1.1950e-02, -1.1365e-02, -1.6450e-02,  ..., -5.8718e-03,\n",
       "         -1.1633e-03,  1.3954e-02],\n",
       "        [-4.3872e-04,  4.3672e-03, -7.2652e-03,  ...,  8.0757e-03,\n",
       "          2.1152e-02,  2.8340e-02],\n",
       "        ...,\n",
       "        [-1.1184e-02, -1.8180e-03, -9.4747e-03,  ..., -1.0684e-02,\n",
       "          2.0136e-02,  1.3092e-02],\n",
       "        [ 6.8779e-03,  8.2968e-03,  2.6120e-04,  ..., -7.0027e-03,\n",
       "          5.0363e-03, -2.2197e-03],\n",
       "        [ 1.3540e-02, -1.3506e-02, -3.5570e-04,  ...,  4.7230e-03,\n",
       "         -2.4568e-03, -8.3004e-04]])"
      ]
     },
     "execution_count": 35,
     "metadata": {},
     "output_type": "execute_result"
    }
   ],
   "source": [
    "# sample from random normal with standard dev = 0.01\n",
    "model.fc1.weight.data.normal_(std=0.01)"
   ]
  },
  {
   "cell_type": "markdown",
   "metadata": {},
   "source": [
    "### Forward pass\n",
    "\n",
    "Now that we have a network, let's see what happens when we pass in an image."
   ]
  },
  {
   "cell_type": "code",
   "execution_count": 19,
   "metadata": {},
   "outputs": [
    {
     "data": {
      "image/png": "[encoded data removed]",
      "text/plain": [
       "<matplotlib.figure.Figure at 0x7fa092f49588>"
      ]
     },
     "metadata": {
      "image/png": {
       "height": 224,
       "width": 423
      },
      "needs_background": "light"
     },
     "output_type": "display_data"
    }
   ],
   "source": [
    "# Grab some data \n",
    "dataiter = iter(trainloader)\n",
    "images, labels = dataiter.next()\n",
    "\n",
    "# Resize images into a 1D vector, new shape is (batch size, color channels, image pixels) \n",
    "images.resize_(64, 1, 784)\n",
    "# or images.resize_(images.shape[0], 1, 784) to automatically get batch size\n",
    "\n",
    "# Forward pass through the network\n",
    "img_idx = 0\n",
    "ps = model.forward(images[img_idx,:])\n",
    "\n",
    "img = images[img_idx]\n",
    "helper.view_classify(img.view(1, 28, 28), ps)"
   ]
  },
  {
   "cell_type": "markdown",
   "metadata": {},
   "source": [
    "As you can see above, our network has basically no idea what this digit is. It's because we haven't trained it yet, all the weights are random!\n",
    "\n",
    "### Using `nn.Sequential`\n",
    "\n",
    "PyTorch provides a convenient way to build networks like this where a tensor is passed sequentially through operations, `nn.Sequential` ([documentation](https://pytorch.org/docs/master/nn.html#torch.nn.Sequential)). Using this to build the equivalent network:"
   ]
  },
  {
   "cell_type": "code",
   "execution_count": 36,
   "metadata": {},
   "outputs": [
    {
     "name": "stdout",
     "output_type": "stream",
     "text": [
      "Sequential(\n",
      "  (0): Linear(in_features=784, out_features=128, bias=True)\n",
      "  (1): ReLU()\n",
      "  (2): Linear(in_features=128, out_features=64, bias=True)\n",
      "  (3): ReLU()\n",
      "  (4): Linear(in_features=64, out_features=10, bias=True)\n",
      "  (5): Softmax()\n",
      ")\n"
     ]
    },
    {
     "data": {
      "image/png": "[encoded data removed]",
      "text/plain": [
       "<matplotlib.figure.Figure at 0x7fa035d91ac8>"
      ]
     },
     "metadata": {
      "image/png": {
       "height": 224,
       "width": 423
      },
      "needs_background": "light"
     },
     "output_type": "display_data"
    }
   ],
   "source": [
    "# Hyperparameters for our network\n",
    "input_size = 784\n",
    "hidden_sizes = [128, 64]\n",
    "output_size = 10\n",
    "\n",
    "# Build a feed-forward network\n",
    "model = nn.Sequential(nn.Linear(input_size, hidden_sizes[0]),\n",
    "                      nn.ReLU(),\n",
    "                      nn.Linear(hidden_sizes[0], hidden_sizes[1]),\n",
    "                      nn.ReLU(),\n",
    "                      nn.Linear(hidden_sizes[1], output_size),\n",
    "                      nn.Softmax(dim=1))\n",
    "print(model)\n",
    "\n",
    "# Forward pass through the network and display output\n",
    "images, labels = next(iter(trainloader))\n",
    "images.resize_(images.shape[0], 1, 784)\n",
    "ps = model.forward(images[0,:])\n",
    "helper.view_classify(images[0].view(1, 28, 28), ps)"
   ]
  },
  {
   "cell_type": "markdown",
   "metadata": {},
   "source": [
    "Here our model is the same as before: 784 input units, a hidden layer with 128 units, ReLU activation, 64 unit hidden layer, another ReLU, then the output layer with 10 units, and the softmax output.\n",
    "\n",
    "The operations are availble by passing in the appropriate index. For example, if you want to get first Linear operation and look at the weights, you'd use `model[0]`."
   ]
  },
  {
   "cell_type": "code",
   "execution_count": 37,
   "metadata": {},
   "outputs": [
    {
     "name": "stdout",
     "output_type": "stream",
     "text": [
      "Linear(in_features=784, out_features=128, bias=True)\n"
     ]
    },
    {
     "data": {
      "text/plain": [
       "Parameter containing:\n",
       "tensor([[ 1.1162e-02,  9.1140e-03, -2.2852e-02,  ..., -3.1106e-02,\n",
       "          2.8933e-03,  2.7930e-02],\n",
       "        [ 2.3995e-02,  3.9629e-03,  1.2769e-02,  ..., -2.5735e-02,\n",
       "          1.7181e-02,  2.1068e-03],\n",
       "        [-2.5372e-02,  1.9934e-03,  3.0218e-02,  ..., -1.7316e-02,\n",
       "         -2.9612e-02,  8.2960e-03],\n",
       "        ...,\n",
       "        [-1.9319e-02,  1.2595e-02,  2.0625e-02,  ...,  9.3167e-03,\n",
       "          2.4064e-02,  1.8504e-02],\n",
       "        [-1.7859e-02,  3.2487e-02,  1.5808e-02,  ...,  2.0962e-02,\n",
       "         -3.5695e-02,  2.9877e-06],\n",
       "        [-7.4999e-03,  1.3975e-02,  2.5772e-02,  ...,  3.5953e-04,\n",
       "         -1.8542e-02, -9.8503e-03]])"
      ]
     },
     "execution_count": 37,
     "metadata": {},
     "output_type": "execute_result"
    }
   ],
   "source": [
    "print(model[0])\n",
    "model[0].weight"
   ]
  },
  {
   "cell_type": "markdown",
   "metadata": {},
   "source": [
    "You can also pass in an `OrderedDict` to name the individual layers and operations, instead of using incremental integers. Note that dictionary keys must be unique, so _each operation must have a different name_."
   ]
  },
  {
   "cell_type": "code",
   "execution_count": 38,
   "metadata": {},
   "outputs": [
    {
     "data": {
      "text/plain": [
       "Sequential(\n",
       "  (fc1): Linear(in_features=784, out_features=128, bias=True)\n",
       "  (relu1): ReLU()\n",
       "  (fc2): Linear(in_features=128, out_features=64, bias=True)\n",
       "  (relu2): ReLU()\n",
       "  (output): Linear(in_features=64, out_features=10, bias=True)\n",
       "  (softmax): Softmax()\n",
       ")"
      ]
     },
     "execution_count": 38,
     "metadata": {},
     "output_type": "execute_result"
    }
   ],
   "source": [
    "from collections import OrderedDict\n",
    "model = nn.Sequential(OrderedDict([\n",
    "                      ('fc1', nn.Linear(input_size, hidden_sizes[0])),\n",
    "                      ('relu1', nn.ReLU()),\n",
    "                      ('fc2', nn.Linear(hidden_sizes[0], hidden_sizes[1])),\n",
    "                      ('relu2', nn.ReLU()),\n",
    "                      ('output', nn.Linear(hidden_sizes[1], output_size)),\n",
    "                      ('softmax', nn.Softmax(dim=1))]))\n",
    "model"
   ]
  },
  {
   "cell_type": "markdown",
   "metadata": {},
   "source": [
    "Now you can access layers either by integer or the name"
   ]
  },
  {
   "cell_type": "code",
   "execution_count": 39,
   "metadata": {},
   "outputs": [
    {
     "name": "stdout",
     "output_type": "stream",
     "text": [
      "Linear(in_features=784, out_features=128, bias=True)\n",
      "Linear(in_features=784, out_features=128, bias=True)\n"
     ]
    }
   ],
   "source": [
    "print(model[0])\n",
    "print(model.fc1)"
   ]
  },
  {
   "cell_type": "markdown",
   "metadata": {},
   "source": [
    "In the next notebook, we'll see how we can train a neural network to accuractly predict the numbers appearing in the MNIST images."
   ]
  }
 ],
 "metadata": {
  "kernelspec": {
   "display_name": "Python 3",
   "language": "python",
   "name": "python3"
  },
  "language_info": {
   "codemirror_mode": {
    "name": "ipython",
    "version": 3
   },
   "file_extension": ".py",
   "mimetype": "text/x-python",
   "name": "python",
   "nbconvert_exporter": "python",
   "pygments_lexer": "ipython3",
   "version": "3.6.3"
  }
 },
 "nbformat": 4,
 "nbformat_minor": 2
}
